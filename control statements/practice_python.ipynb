{
 "cells": [
  {
   "cell_type": "code",
   "execution_count": 1,
   "metadata": {},
   "outputs": [
    {
     "name": "stdout",
     "output_type": "stream",
     "text": [
      "Enter your marks:60\n",
      "Hello\n",
      "you are passed in the exam\n",
      "Thankyou\n"
     ]
    }
   ],
   "source": [
    "marks=int(input('Enter your marks:'))\n",
    "if marks>=35:\n",
    "    print('Hello')\n",
    "    print('you are passed in the exam')\n",
    "    print('Thankyou')"
   ]
  },
  {
   "cell_type": "code",
   "execution_count": 4,
   "metadata": {},
   "outputs": [
    {
     "name": "stdout",
     "output_type": "stream",
     "text": [
      "Enter your age:23\n",
      "Hello\n",
      "You are allowed to use vote\n",
      "Thankyou\n"
     ]
    }
   ],
   "source": [
    "age=int(input('Enter your age:'))\n",
    "if age>=18:\n",
    " print('Hello')\n",
    " print('You are allowed to use vote')\n",
    " print('Thankyou')"
   ]
  },
  {
   "cell_type": "code",
   "execution_count": 9,
   "metadata": {},
   "outputs": [
    {
     "name": "stdout",
     "output_type": "stream",
     "text": [
      "Enter your name:sai\n",
      "Enter your marks:12\n",
      "Hello sai\n",
      "you are failed in the exam because you got 12 marks only\n",
      "Thamkyou\n"
     ]
    }
   ],
   "source": [
    "name=input('Enter your name:')\n",
    "marks=int(input('Enter your marks:'))\n",
    "print('Hello',name)\n",
    "if marks>=35:\n",
    "    print('you are passed in the exam because you got',marks,'marks')\n",
    "else:\n",
    "    print('you are failed in the exam because you got',marks,'marks only')\n",
    "print('Thamkyou')\n"
   ]
  },
  {
   "cell_type": "code",
   "execution_count": 10,
   "metadata": {},
   "outputs": [
    {
     "name": "stdout",
     "output_type": "stream",
     "text": [
      "Enter your name:sathya\n",
      "Enter your marks:65\n",
      "Hello sathya\n",
      "you are passed in the exam because you got 65 marks\n",
      "Thamkyou\n"
     ]
    }
   ],
   "source": [
    "name=input('Enter your name:')\n",
    "marks=int(input('Enter your marks:'))\n",
    "print('Hello',name)\n",
    "if marks>=35:\n",
    "    print('you are passed in the exam because you got',marks,'marks')\n",
    "else:\n",
    "    print('you are failed in the exam because you got',marks,'marks only')\n",
    "print('Thamkyou')"
   ]
  },
  {
   "cell_type": "code",
   "execution_count": 11,
   "metadata": {},
   "outputs": [
    {
     "name": "stdout",
     "output_type": "stream",
     "text": [
      "Enter first number13\n",
      "Enter second number17\n",
      "17 is greater then 13\n"
     ]
    }
   ],
   "source": [
    "a=int(input('Enter first number'))\n",
    "b=int(input('Enter second number'))\n",
    "if a>b:\n",
    "    print(a,'is greater then',b)\n",
    "else:\n",
    "    print(b,'is greater then',a)"
   ]
  },
  {
   "cell_type": "code",
   "execution_count": 12,
   "metadata": {},
   "outputs": [
    {
     "name": "stdout",
     "output_type": "stream",
     "text": [
      "Enter first number32\n",
      "Enter second number12\n",
      "32 is greater then 12\n"
     ]
    }
   ],
   "source": [
    "a=int(input('Enter first number'))\n",
    "b=int(input('Enter second number'))\n",
    "if a>b:\n",
    "    print(a,'is greater then',b)\n",
    "else:\n",
    "    print(b,'is greater then',a)"
   ]
  },
  {
   "cell_type": "code",
   "execution_count": 19,
   "metadata": {},
   "outputs": [
    {
     "name": "stdout",
     "output_type": "stream",
     "text": [
      "Enter a first number:10\n",
      "Enter a second number:10\n",
      "Enter a third number:10\n",
      "all are same values\n"
     ]
    }
   ],
   "source": [
    "a=int(input('Enter a first number:'))\n",
    "b=int(input('Enter a second number:'))\n",
    "c=int(input('Enter a third number:'))\n",
    "if a>b and a>c:\n",
    "    print(a)\n",
    "elif b>c:\n",
    "    print(b)\n",
    "elif a==b==c:\n",
    "    print('all are same values')\n",
    "else:\n",
    "    print(c)"
   ]
  },
  {
   "cell_type": "code",
   "execution_count": 22,
   "metadata": {},
   "outputs": [
    {
     "name": "stdout",
     "output_type": "stream",
     "text": [
      "Enter a first number:12\n",
      "Enter a second number:10\n",
      "Enter a third number:22\n",
      "22\n"
     ]
    }
   ],
   "source": [
    "a=int(input('Enter a first number:'))\n",
    "b=int(input('Enter a second number:'))\n",
    "c=int(input('Enter a third number:'))\n",
    "if a>b and a>c:\n",
    "    print(a)\n",
    "elif b>c:\n",
    "    print(b)\n",
    "elif a==b==c:\n",
    "    print('all are same values')\n",
    "else:\n",
    "    print(c)"
   ]
  },
  {
   "cell_type": "code",
   "execution_count": 6,
   "metadata": {},
   "outputs": [
    {
     "name": "stdout",
     "output_type": "stream",
     "text": [
      "Enter your name:sai\n",
      "Enter your qualification:Btech\n",
      "Enter your passedout year:2018\n",
      "Enter your percentage:80\n",
      "Hello sai\n",
      "please come to interview tomorrow\n",
      "Thankyou for using website\n"
     ]
    }
   ],
   "source": [
    "name=input('Enter your name:')\n",
    "qual=input('Enter your qualification:')\n",
    "year=int(input('Enter your passedout year:'))\n",
    "per=eval(input('Enter your percentage:'))\n",
    "qual=qual.lower()\n",
    "print('Hello',name)\n",
    "if qual=='btech'or qual=='be':\n",
    "    if year==2018 or year==2017:\n",
    "        if per>=0 and per<35:\n",
    "            print('please dont come to interview')\n",
    "        elif per>=35 and per <50:\n",
    "            print('please come to interview after one month')\n",
    "        elif per>50 and per<=70:\n",
    "            print('please come to interview next week')\n",
    "        elif per>70 and per<=100:\n",
    "            print('please come to interview tomorrow')\n",
    "        else:\n",
    "            print('you entered',per,'%,it is invalid percentage')\n",
    "    elif year<2017:\n",
    "            print('you are passed in',year,'year,so you are not a fresher')\n",
    "    else:\n",
    "            print('you entered',year,'year,it is invalid passedout year')\n",
    "else:\n",
    "    print('you completed',qual,'it is only for Btech or BE students only')\n",
    "print('Thankyou for using website')"
   ]
  },
  {
   "cell_type": "code",
   "execution_count": 7,
   "metadata": {},
   "outputs": [
    {
     "name": "stdout",
     "output_type": "stream",
     "text": [
      "10\n",
      "20\n",
      "30\n",
      "40\n",
      "50\n"
     ]
    }
   ],
   "source": [
    "lst=[10,20,30,40,50]\n",
    "for i in lst:\n",
    "    print(i)"
   ]
  },
  {
   "cell_type": "code",
   "execution_count": 8,
   "metadata": {},
   "outputs": [
    {
     "name": "stdout",
     "output_type": "stream",
     "text": [
      "python"
     ]
    }
   ],
   "source": [
    "st='python'\n",
    "for i in st:\n",
    "    print(i,end='')"
   ]
  },
  {
   "cell_type": "code",
   "execution_count": 9,
   "metadata": {},
   "outputs": [
    {
     "name": "stdout",
     "output_type": "stream",
     "text": [
      "p y t h o n "
     ]
    }
   ],
   "source": [
    "st='python'\n",
    "for i in st:\n",
    "    print(i,end=' ')"
   ]
  },
  {
   "cell_type": "code",
   "execution_count": 10,
   "metadata": {},
   "outputs": [
    {
     "name": "stdout",
     "output_type": "stream",
     "text": [
      "pswamyyswamytswamyhswamyoswamynswamy"
     ]
    }
   ],
   "source": [
    "st='python'\n",
    "for i in st:\n",
    "    print(i,end='swamy')"
   ]
  },
  {
   "cell_type": "code",
   "execution_count": 11,
   "metadata": {},
   "outputs": [
    {
     "name": "stdout",
     "output_type": "stream",
     "text": [
      "1\n",
      "2\n",
      "3\n",
      "4\n",
      "5\n",
      "6\n",
      "7\n",
      "8\n",
      "9\n"
     ]
    }
   ],
   "source": [
    "for i in range(1,10):\n",
    "    print(i)"
   ]
  },
  {
   "cell_type": "code",
   "execution_count": 12,
   "metadata": {},
   "outputs": [
    {
     "name": "stdout",
     "output_type": "stream",
     "text": [
      "-5\n",
      "-4\n",
      "-3\n",
      "-2\n",
      "-1\n"
     ]
    }
   ],
   "source": [
    "for i in range(-5,0):\n",
    "    print(i)"
   ]
  },
  {
   "cell_type": "code",
   "execution_count": 13,
   "metadata": {},
   "outputs": [
    {
     "name": "stdout",
     "output_type": "stream",
     "text": [
      "5\n",
      "4\n",
      "3\n",
      "2\n",
      "1\n"
     ]
    }
   ],
   "source": [
    "for i in range(5,0,-1):\n",
    "    print(i)"
   ]
  },
  {
   "cell_type": "code",
   "execution_count": 18,
   "metadata": {},
   "outputs": [
    {
     "name": "stdout",
     "output_type": "stream",
     "text": [
      "10* 1 = 10\n",
      "10* 2 = 20\n",
      "10* 3 = 30\n",
      "10* 4 = 40\n",
      "10* 5 = 50\n",
      "10* 6 = 60\n",
      "10* 7 = 70\n",
      "10* 8 = 80\n",
      "10* 9 = 90\n",
      "10* 10 = 100\n"
     ]
    }
   ],
   "source": [
    "for i in range(1,11):\n",
    "    print('10*',i,'=',i*10)"
   ]
  },
  {
   "cell_type": "code",
   "execution_count": 1,
   "metadata": {},
   "outputs": [
    {
     "name": "stdout",
     "output_type": "stream",
     "text": [
      "2\n",
      "4\n",
      "6\n",
      "8\n",
      "10\n"
     ]
    }
   ],
   "source": [
    "for i in range(1,11):\n",
    "    if i%2==0:\n",
    "        print(i)\n"
   ]
  },
  {
   "cell_type": "code",
   "execution_count": 2,
   "metadata": {},
   "outputs": [
    {
     "name": "stdout",
     "output_type": "stream",
     "text": [
      "2\n",
      "4\n",
      "6\n",
      "8\n",
      "10\n"
     ]
    }
   ],
   "source": [
    "for i in range(2,11,2):\n",
    "    print(i)"
   ]
  },
  {
   "cell_type": "code",
   "execution_count": 5,
   "metadata": {},
   "outputs": [
    {
     "name": "stdout",
     "output_type": "stream",
     "text": [
      "0\n",
      "1\n",
      "2\n",
      "3\n",
      "4\n",
      "5\n",
      "6\n",
      "7\n",
      "8\n",
      "9\n",
      "10\n"
     ]
    }
   ],
   "source": [
    "for i in range(0,11):\n",
    "    print(i)"
   ]
  },
  {
   "cell_type": "code",
   "execution_count": 7,
   "metadata": {},
   "outputs": [
    {
     "name": "stdout",
     "output_type": "stream",
     "text": [
      "Enter any number:10\n",
      "2\n",
      "4\n",
      "6\n",
      "8\n",
      "10\n",
      "12\n",
      "14\n",
      "16\n",
      "18\n",
      "20\n"
     ]
    }
   ],
   "source": [
    "n=int(input('Enter any number:'))\n",
    "for i in range(1,2*n+1):\n",
    "    if i%2==0:\n",
    "        print(i)\n"
   ]
  },
  {
   "cell_type": "code",
   "execution_count": 9,
   "metadata": {},
   "outputs": [
    {
     "name": "stdout",
     "output_type": "stream",
     "text": [
      "Enter any number:5\n",
      "[2, 4, 6, 8, 10]\n"
     ]
    }
   ],
   "source": [
    "n=int(input('Enter any number:'))\n",
    "lst1=[]\n",
    "for i in range(1,2*n+1):\n",
    "    if i%2==0:\n",
    "        lst1.append(i)\n",
    "print(lst1)\n",
    "        "
   ]
  },
  {
   "cell_type": "code",
   "execution_count": 10,
   "metadata": {},
   "outputs": [
    {
     "name": "stdout",
     "output_type": "stream",
     "text": [
      "[2, 4, 6, 8, 10]\n"
     ]
    }
   ],
   "source": [
    "lst1=[]\n",
    "for i in range(2,11):\n",
    "    if i%2==0:\n",
    "        lst1.append(i)\n",
    "print(lst1)"
   ]
  },
  {
   "cell_type": "code",
   "execution_count": 19,
   "metadata": {},
   "outputs": [
    {
     "name": "stdout",
     "output_type": "stream",
     "text": [
      "ptechytechttechhtechotechn\n"
     ]
    }
   ],
   "source": [
    "st='python'\n",
    "st1='tech'.join(st)\n",
    "print(st1)"
   ]
  },
  {
   "cell_type": "code",
   "execution_count": 20,
   "metadata": {},
   "outputs": [
    {
     "name": "stdout",
     "output_type": "stream",
     "text": [
      "ptechytechttechhtechotechntech"
     ]
    }
   ],
   "source": [
    "st='python'\n",
    "for i in st:\n",
    "    print(i,end='tech')"
   ]
  },
  {
   "cell_type": "code",
   "execution_count": 21,
   "metadata": {},
   "outputs": [
    {
     "name": "stdout",
     "output_type": "stream",
     "text": [
      "Enter your feedback:'he is good trainer'\n",
      "He has given positive feedback\n"
     ]
    }
   ],
   "source": [
    "c=input('Enter your feedback:')\n",
    "if 'good'in c:\n",
    "    print('He has given positive feedback')\n",
    "else:\n",
    "    print('He has given negative feedback')"
   ]
  },
  {
   "cell_type": "code",
   "execution_count": 22,
   "metadata": {},
   "outputs": [
    {
     "name": "stdout",
     "output_type": "stream",
     "text": [
      "Enter your feedback:'he is bad trainer'\n",
      "He has given negative feedback\n"
     ]
    }
   ],
   "source": [
    "c=input('Enter your feedback:')\n",
    "if 'good'in c:\n",
    "    print('He has given positive feedback')\n",
    "else:\n",
    "    print('He has given negative feedback')"
   ]
  },
  {
   "cell_type": "code",
   "execution_count": 29,
   "metadata": {},
   "outputs": [
    {
     "name": "stdout",
     "output_type": "stream",
     "text": [
      "1\n",
      "2\n",
      "3\n",
      "4\n",
      "5\n",
      "6\n",
      "7\n",
      "8\n",
      "9\n",
      "10\n"
     ]
    }
   ],
   "source": [
    "i=1\n",
    "while i<=10:\n",
    "    print(i)\n",
    "    i=i+1\n",
    "    "
   ]
  },
  {
   "cell_type": "code",
   "execution_count": null,
   "metadata": {},
   "outputs": [],
   "source": []
  }
 ],
 "metadata": {
  "kernelspec": {
   "display_name": "Python 3",
   "language": "python",
   "name": "python3"
  },
  "language_info": {
   "codemirror_mode": {
    "name": "ipython",
    "version": 3
   },
   "file_extension": ".py",
   "mimetype": "text/x-python",
   "name": "python",
   "nbconvert_exporter": "python",
   "pygments_lexer": "ipython3",
   "version": "3.6.5"
  }
 },
 "nbformat": 4,
 "nbformat_minor": 2
}
