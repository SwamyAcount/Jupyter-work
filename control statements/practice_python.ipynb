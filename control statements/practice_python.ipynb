{
 "cells": [
  {
   "cell_type": "code",
   "execution_count": 1,
   "metadata": {},
   "outputs": [
    {
     "name": "stdout",
     "output_type": "stream",
     "text": [
      "Enter your marks:60\n",
      "Hello\n",
      "you are passed in the exam\n",
      "Thankyou\n"
     ]
    }
   ],
   "source": [
    "marks=int(input('Enter your marks:'))\n",
    "if marks>=35:\n",
    "    print('Hello')\n",
    "    print('you are passed in the exam')\n",
    "    print('Thankyou')"
   ]
  },
  {
   "cell_type": "code",
   "execution_count": 4,
   "metadata": {},
   "outputs": [
    {
     "name": "stdout",
     "output_type": "stream",
     "text": [
      "Enter your age:23\n",
      "Hello\n",
      "You are allowed to use vote\n",
      "Thankyou\n"
     ]
    }
   ],
   "source": [
    "age=int(input('Enter your age:'))\n",
    "if age>=18:\n",
    " print('Hello')\n",
    " print('You are allowed to use vote')\n",
    " print('Thankyou')"
   ]
  },
  {
   "cell_type": "code",
   "execution_count": 9,
   "metadata": {},
   "outputs": [
    {
     "name": "stdout",
     "output_type": "stream",
     "text": [
      "Enter your name:sai\n",
      "Enter your marks:12\n",
      "Hello sai\n",
      "you are failed in the exam because you got 12 marks only\n",
      "Thamkyou\n"
     ]
    }
   ],
   "source": [
    "name=input('Enter your name:')\n",
    "marks=int(input('Enter your marks:'))\n",
    "print('Hello',name)\n",
    "if marks>=35:\n",
    "    print('you are passed in the exam because you got',marks,'marks')\n",
    "else:\n",
    "    print('you are failed in the exam because you got',marks,'marks only')\n",
    "print('Thamkyou')\n"
   ]
  },
  {
   "cell_type": "code",
   "execution_count": 10,
   "metadata": {},
   "outputs": [
    {
     "name": "stdout",
     "output_type": "stream",
     "text": [
      "Enter your name:sathya\n",
      "Enter your marks:65\n",
      "Hello sathya\n",
      "you are passed in the exam because you got 65 marks\n",
      "Thamkyou\n"
     ]
    }
   ],
   "source": [
    "name=input('Enter your name:')\n",
    "marks=int(input('Enter your marks:'))\n",
    "print('Hello',name)\n",
    "if marks>=35:\n",
    "    print('you are passed in the exam because you got',marks,'marks')\n",
    "else:\n",
    "    print('you are failed in the exam because you got',marks,'marks only')\n",
    "print('Thamkyou')"
   ]
  },
  {
   "cell_type": "code",
   "execution_count": 11,
   "metadata": {},
   "outputs": [
    {
     "name": "stdout",
     "output_type": "stream",
     "text": [
      "Enter first number13\n",
      "Enter second number17\n",
      "17 is greater then 13\n"
     ]
    }
   ],
   "source": [
    "a=int(input('Enter first number'))\n",
    "b=int(input('Enter second number'))\n",
    "if a>b:\n",
    "    print(a,'is greater then',b)\n",
    "else:\n",
    "    print(b,'is greater then',a)"
   ]
  },
  {
   "cell_type": "code",
   "execution_count": 12,
   "metadata": {},
   "outputs": [
    {
     "name": "stdout",
     "output_type": "stream",
     "text": [
      "Enter first number32\n",
      "Enter second number12\n",
      "32 is greater then 12\n"
     ]
    }
   ],
   "source": [
    "a=int(input('Enter first number'))\n",
    "b=int(input('Enter second number'))\n",
    "if a>b:\n",
    "    print(a,'is greater then',b)\n",
    "else:\n",
    "    print(b,'is greater then',a)"
   ]
  },
  {
   "cell_type": "code",
   "execution_count": 19,
   "metadata": {},
   "outputs": [
    {
     "name": "stdout",
     "output_type": "stream",
     "text": [
      "Enter a first number:10\n",
      "Enter a second number:10\n",
      "Enter a third number:10\n",
      "all are same values\n"
     ]
    }
   ],
   "source": [
    "a=int(input('Enter a first number:'))\n",
    "b=int(input('Enter a second number:'))\n",
    "c=int(input('Enter a third number:'))\n",
    "if a>b and a>c:\n",
    "    print(a)\n",
    "elif b>c:\n",
    "    print(b)\n",
    "elif a==b==c:\n",
    "    print('all are same values')\n",
    "else:\n",
    "    print(c)"
   ]
  },
  {
   "cell_type": "code",
   "execution_count": 22,
   "metadata": {},
   "outputs": [
    {
     "name": "stdout",
     "output_type": "stream",
     "text": [
      "Enter a first number:12\n",
      "Enter a second number:10\n",
      "Enter a third number:22\n",
      "22\n"
     ]
    }
   ],
   "source": [
    "a=int(input('Enter a first number:'))\n",
    "b=int(input('Enter a second number:'))\n",
    "c=int(input('Enter a third number:'))\n",
    "if a>b and a>c:\n",
    "    print(a)\n",
    "elif b>c:\n",
    "    print(b)\n",
    "elif a==b==c:\n",
    "    print('all are same values')\n",
    "else:\n",
    "    print(c)"
   ]
  },
  {
   "cell_type": "code",
   "execution_count": null,
   "metadata": {},
   "outputs": [],
   "source": []
  }
 ],
 "metadata": {
  "kernelspec": {
   "display_name": "Python 3",
   "language": "python",
   "name": "python3"
  },
  "language_info": {
   "codemirror_mode": {
    "name": "ipython",
    "version": 3
   },
   "file_extension": ".py",
   "mimetype": "text/x-python",
   "name": "python",
   "nbconvert_exporter": "python",
   "pygments_lexer": "ipython3",
   "version": "3.6.5"
  }
 },
 "nbformat": 4,
 "nbformat_minor": 2
}
